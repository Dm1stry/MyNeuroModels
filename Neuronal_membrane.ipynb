{
 "cells": [
  {
   "cell_type": "code",
   "execution_count": 11,
   "metadata": {},
   "outputs": [],
   "source": [
    "import numpy as np\n",
    "import matplotlib.pyplot as plt\n",
    "from scipy.integrate import RK45\n",
    "from functools import partial\n",
    "\n",
    "R = 8.31\n",
    "F = 9.648e4\n",
    "eps0 = 8.854e-12"
   ]
  },
  {
   "cell_type": "markdown",
   "metadata": {},
   "source": [
    "# Уравнение Нернста-Планка"
   ]
  },
  {
   "cell_type": "markdown",
   "metadata": {},
   "source": [
    "Описывает поток ионов одного вида через мембрану при наличии градиента концентрации и электрического поля"
   ]
  },
  {
   "cell_type": "markdown",
   "metadata": {},
   "source": [
    "## Диффузия"
   ]
  },
  {
   "cell_type": "markdown",
   "metadata": {},
   "source": [
    "> В приближении, где размер частиц примерно равен ширине каналов, задачу диффузии можно считать одномерной\n",
    "\n",
    "Поток частиц Х через мембрану за счет чистой диффузии описывается законом Фика как:\n",
    "$$\n",
    "J_{X, diff} = - D_X \\frac{d[X]}{dx}\n",
    "$$\n",
    "где:\n",
    "- $J_{X, diff}$ - диффузный молярный поток через мембрану (molar flux)\n",
    "- $D_X$ - коэффициэнт диффузии (diffusion coefficient) - \\[$\\frac{cm^2}{s}$\\]\n",
    "- $\\frac{d[X]}{dx}$ - одномерный градиент концентрации Х (concentration gradient)\n",
    "\n",
    "Знак минус показывает, что поток направлен против градиента концентрации."
   ]
  },
  {
   "cell_type": "markdown",
   "metadata": {},
   "source": [
    "## Дрейф в электрическом поле"
   ]
  },
  {
   "cell_type": "markdown",
   "metadata": {},
   "source": [
    "При приложении электрического поля частицы стремятся двигаться вдоль градиента электростатического поля (направление определяется знаком заряда).\n",
    "\n",
    "Концентрация ионов обоих знаков примерно равна, так что при движении в противоположные стороны они испытывают столкновения. Столкновения мешают частицам неограниченно ускоряться в электрическом поле. Таким образом формируется определенная средняя дрейфовая скорость (**drift velocity**), определяемая конкентрацией частиц и силой поля. \n",
    "\n",
    "В отсутствие градиента концентрации поток вызванный электрическим смещением описывается как:\n",
    "$$\n",
    "J_{X, drift} = - \\frac{D_X F}{RT} \\cdot z_X \\cdot [X] \\cdot \\frac{dV}{dx}\n",
    "$$\n",
    "где:\n",
    "- $z_X$ - валентность иона (со знаком) \n",
    "- $R \\approx 8.31$ - универсальная газовая постоянная\n",
    "- $T$ - абсолютная температура\n",
    "- $F = N_a \\cdot e \\approx 9.648 \\cdot 10^4 Кл/моль$ - постоянная Фарадея (количество заряда на моль вещества)\n",
    "- $dV$ - разность потенциалов\n",
    "- $\\frac{dV}{dx}$ - градиент электрического поля \n",
    "\n",
    "> $z_{Ca} = +2$\n",
    "\n",
    "> $z_{K} = z_{Na} = +1$\n",
    "\n",
    "> $z_{Cl} = -1$\n"
   ]
  },
  {
   "cell_type": "markdown",
   "metadata": {},
   "source": [
    "## Электродиффузия"
   ]
  },
  {
   "cell_type": "markdown",
   "metadata": {},
   "source": [
    "Описывает движение частиц при градиенте концентрации и в присутствии электрического поля. Поток в этом случае описывается **уравнением Нернста-Планка**\n",
    "\n",
    "$$\n",
    "J_X =J_{X, diff} + J_{X, drift} = - D_X \\left( \\frac{d[X]}{dx} + \\frac{z_X F}{RT} \\cdot [X] \\cdot \\frac{dV}{dx} \\right)\n",
    "$$\n",
    "\n",
    "Это уранение используется для описания взаимоотношения между мембранным потенциалом и потоком ионов через каналы."
   ]
  },
  {
   "cell_type": "markdown",
   "metadata": {},
   "source": [
    "## Ток через мембрану"
   ]
  },
  {
   "cell_type": "markdown",
   "metadata": {},
   "source": [
    "Может быть описан как:\n",
    "$$\n",
    "I_X = F \\cdot z_X \\cdot J_X\n",
    "$$\n",
    "> Количество зарядов в молекуле, на заряд моля (величина одного заряда, на количество молекул) на поток\n",
    "\n",
    "Полный ток через мембрану складывается из токов всех ионов:\n",
    "$$\n",
    "I = I_{Na} + I_{K} + I_{Cl} = F \\cdot (z_{Na} J_{Na} + z_{K} J_{K} + z_{Cl} J_{Cl})\n",
    "$$\n",
    "$$\n",
    "I = 9.648 \\cdot (J_{Na} + J_{K} - J_{Cl})\n",
    "$$\n",
    "В первом приближении предполагается, что сопротивление мембраны омическое - ток зависит от напряжения линейно."
   ]
  },
  {
   "cell_type": "markdown",
   "metadata": {},
   "source": [
    "# Потенциал покоя. Потенциал Нернста"
   ]
  },
  {
   "cell_type": "markdown",
   "metadata": {},
   "source": [
    "Потенциал Нернста может быть получен из уравнения Нернста-Планка\n",
    "В равновесии поток ионов в обе стороны одинаков, а значит суммарный поток равен нулю:\n",
    "$$\n",
    "\\frac{d[X]}{dx} = -\\frac{z_X F}{RT} \\cdot [X] \\cdot \\frac{dV}{dx}\n",
    "$$\n",
    "Проинтегрировав обе части получим:\n",
    "$$\n",
    "\\int_{[X_{in}]}^{[X_{out}]} \\frac{d[X]}{[X]} = \\frac{z_X F}{RT} \\cdot [X] \\cdot \\int_{V_{out}}^{V_{in}} dV\n",
    "$$\n",
    "$$\n",
    "ln \\left( \\frac{X_{out}}{X_{in}} \\right) = \\frac{z_X F}{RT} \\cdot E_{X}\n",
    "$$\n",
    "где:\n",
    "$$\n",
    "E_X = V_{in} - V_{out}\n",
    "$$\n",
    "И наконец:\n",
    "$$\n",
    "E_X = \\frac{RT}{z_X F}ln \\left( \\frac{X_{out}}{X_{in}} \\right)\n",
    "$$\n",
    "Полученное выражение - потенциал покоя или, что то же самое - **потенциал Нернста**."
   ]
  },
  {
   "cell_type": "code",
   "execution_count": 2,
   "metadata": {},
   "outputs": [],
   "source": [
    "def resting_potential(z_x, X_in, X_out, T=300):\n",
    "    E_x = R * T / (z_x * F) * np.log(X_out / X_in)\n",
    "    return E_x"
   ]
  },
  {
   "cell_type": "markdown",
   "metadata": {},
   "source": [
    "# Моделирование диффузии через мембрану"
   ]
  },
  {
   "cell_type": "markdown",
   "metadata": {},
   "source": [
    "За основу возьмем уравнение Нернста-Планка:\n",
    "$$\n",
    "\n",
    "J_X =J_{X, diff} + J_{X, drift} = - D_X \\left( \\frac{d[X]}{dx} + \\frac{z_X F}{RT} \\cdot [X] \\cdot \\frac{dV}{dx} \\right)\n",
    "\n",
    "$$\n",
    "И применим следующие приближения:\n",
    "\n",
    "1. $dx$ - постоянно и равно толщине мембраны, т.е. $dx = d_{membrane}$, это значит что весь заряд считается распределенным по мембране\n",
    "2. Из предположения 1 вытекает что:\n",
    "    1. $\\frac{dV}{dx} = \\frac{V_membrane}{d_{membrane}}$\n",
    "    2. $\\frac{d[X]}{dt} = \\frac{[X]_{out} - [X]_{in}}{dt} = \\frac{[X]_{disequilibrium}}{d_{membrane}}$\n",
    "3. Но при этом иземенеие концентрации со временем:\n",
    "$$\n",
    "\\frac{d[X]}{dt} = \\frac{d[X]_{disequilibrium}}{dt}\n",
    "$$\n",
    "\n",
    "**Разность потенциалов** можно выразить через емкость мембраны и заряд:\n",
    "\n",
    "$$\n",
    "\n",
    "dV = V_{out} - V_{in} = \\frac{q}{C}\n",
    "\n",
    "$$\n",
    "Заряд на единице площади мембраны может быть вычислен как:\n",
    "$$\n",
    "\n",
    "q = F \\cdot z_X \\cdot [X]_{disequilibrium} \\cdot d_{membrane}\n",
    "\n",
    "$$\n",
    "Откуда\n",
    "$$\n",
    "dV = \\frac{F \\cdot z_X \\cdot [X]_{disequilibrium} \\cdot d_{membrane}}{C}\n",
    "$$\n",
    "Емкость единицы площади мембраны тем временем по формуле записывается как:\n",
    "$$\n",
    "C = \\frac{\\epsilon \\epsilon_0}{d_{membrane}}\n",
    "$$\n",
    "где:\n",
    "- $\\epsilon$ - диэлектрическая проницаемость мембраны\n",
    "- $\\epsilon_0$ - лектрическая постоянная в вакууме\n",
    "\n",
    "И в конечном итоге:\n",
    "$$\n",
    "dV = \\frac{F \\cdot z_X \\cdot [X]_{disequilibrium} \\cdot d_{membrane}^2}{\\epsilon \\epsilon_0}\n",
    "$$\n",
    "\n",
    "\n",
    "Для **потока** известно, что :\n",
    "$$\n",
    "\n",
    "J_X = \\frac{d[X] \\cdot V \\space (объем)}{dt \\cdot S}\n",
    "\n",
    "$$\n",
    "Откуда, поделив объем на площадь и принимая длину пробега равной толщине мембраны\n",
    "$$\n",
    "\n",
    "J_X = \\frac{d[X]}{dt \\cdot d_{membrane}}\n",
    "\n",
    "$$\n",
    "И наконец, собрав все приближения воедино соберем диффур, который будем численно решать, чтобы смоделировать процесс диффузии через мембрану с пассивными каналами\n",
    "\n",
    "$$\n",
    "\n",
    "\\frac{d[X]_{disequilibrium}}{dt} = - D_X \\cdot d_{membrane} \\cdot \\left( \\frac{[X]_{disequilibrium}}{d_{membrane}} + \\frac{z_x F}{RT} \\cdot \\left([X]_{disequilibrium} \\right) \\cdot \\frac{F \\cdot z_X \\cdot [X]_{disequilibrium} \\cdot d_{membrane}^2}{\\epsilon \\epsilon_0 d_{membrane}} \\right)\n",
    "\n",
    "$$\n",
    "И чуть причешем:\n",
    "$$\n",
    "\\frac{d[X]_{disequilibrium}}{dt} = - D_X \\cdot \\left( {[X]_{disequilibrium}} + \\frac{(z_X F \\cdot d_{membrane})^2}{RT \\epsilon \\epsilon_0} \\cdot [X]_{disequilibrium}^2 \\right)\n",
    "$$"
   ]
  },
  {
   "cell_type": "code",
   "execution_count": 4,
   "metadata": {},
   "outputs": [],
   "source": [
    "def dX_dt(t, X, d_membrane, z_X, D_X, epsilon, T=300):\n",
    "    return - D_X * (X + (((z_X * F * d_membrane * X)**2) / (R * T * epsilon * eps0)))"
   ]
  },
  {
   "cell_type": "code",
   "execution_count": 27,
   "metadata": {},
   "outputs": [
    {
     "name": "stdout",
     "output_type": "stream",
     "text": [
      "[1.88569843e-07]\n"
     ]
    },
    {
     "data": {
      "image/png": "[encoded data removed]",
      "text/plain": [
       "<Figure size 640x480 with 1 Axes>"
      ]
     },
     "metadata": {},
     "output_type": "display_data"
    }
   ],
   "source": [
    "t_0 = 0  #seconds \n",
    "t_stop = 1000000  #seconds\n",
    "d_m = 10e-9  # m - d_membrane\n",
    "# Давайте засимулируем калий (K), для него:\n",
    "# Возьмем начальную разность концентраций в 2 миллимоль\n",
    "K_start = 0.002  #mole\n",
    "# Его параметры следующие\n",
    "z_K = 1\n",
    "D_K = 1e-5  # m^2 / c - значение по порядку совпадает с реальными, предположим что он не зависит от температуры и состав цитоплазмы не меняется\n",
    "epsilon = 1e6  # Нижняя граница по порядку на низких частотах\n",
    "T = 300  # И моделирование будет происходить при комнатной температуре\n",
    "\n",
    "sol = RK45(partial(dX_dt,\n",
    "                    d_membrane=d_m,\n",
    "                    z_X=z_K,\n",
    "                    D_X = D_K,\n",
    "                    epsilon=epsilon),\n",
    "            t_0,\n",
    "            [K_start],\n",
    "            t_stop\n",
    "        )\n",
    "t_lst = []\n",
    "X_lst = []\n",
    "while sol.status == \"running\":\n",
    "    sol.step()\n",
    "    t_lst.append(sol.t)\n",
    "    X_lst.append(sol.y)\n",
    "    if(sol.y == 0):\n",
    "        break\n",
    "\n",
    "plt.plot(t_lst, X_lst)"
   ]
  },
  {
   "cell_type": "markdown",
   "metadata": {},
   "source": [
    "Вычислим из полученных значений, время, за которое дисбалланс концентраций ионов уменьшится в е раз"
   ]
  },
  {
   "cell_type": "code",
   "execution_count": 32,
   "metadata": {},
   "outputs": [
    {
     "name": "stdout",
     "output_type": "stream",
     "text": [
      "Время затухания: 113098.04102964257\n"
     ]
    }
   ],
   "source": [
    "t_relax = t_lst[np.where(X_lst < K_start / np.exp(1))[0][0]]\n",
    "print(\"Время затухания:\", t_relax, \"c\")"
   ]
  },
  {
   "cell_type": "markdown",
   "metadata": {},
   "source": [
    "Получившееся характерное время затухания выглядит нереалистично большим, причины тому могут быть две:\n",
    "- Неверно выбранные коэффициэнты и значения для параметров клетки\n",
    "- Слишком грубое приближение, не учитывающее изменение коэффициэнта самодиффузии и пространственное расположение ионов (расстояние их до мембраны)"
   ]
  }
 ],
 "metadata": {
  "kernelspec": {
   "display_name": "base",
   "language": "python",
   "name": "python3"
  },
  "language_info": {
   "codemirror_mode": {
    "name": "ipython",
    "version": 3
   },
   "file_extension": ".py",
   "mimetype": "text/x-python",
   "name": "python",
   "nbconvert_exporter": "python",
   "pygments_lexer": "ipython3",
   "version": "3.11.4"
  }
 },
 "nbformat": 4,
 "nbformat_minor": 2
}
